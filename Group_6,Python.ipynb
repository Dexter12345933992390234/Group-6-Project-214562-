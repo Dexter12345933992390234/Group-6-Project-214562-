{
  "nbformat": 4,
  "nbformat_minor": 0,
  "metadata": {
    "colab": {
      "name": "Group  6,Python",
      "provenance": [],
      "authorship_tag": "ABX9TyOwE6uo7wpwUp/zBvWYRG/D",
      "include_colab_link": true
    },
    "kernelspec": {
      "name": "python3",
      "display_name": "Python 3"
    },
    "language_info": {
      "name": "python"
    }
  },
  "cells": [
    {
      "cell_type": "markdown",
      "metadata": {
        "id": "view-in-github",
        "colab_type": "text"
      },
      "source": [
        "<a href=\"https://colab.research.google.com/github/Dexter12345933992390234/Group-6-Project-214562-/blob/main/Group_6%2CPython.ipynb\" target=\"_parent\"><img src=\"https://colab.research.google.com/assets/colab-badge.svg\" alt=\"Open In Colab\"/></a>"
      ]
    },
    {
      "cell_type": "markdown",
      "source": [
        "Tuples:Tuples are used to store multiple items in a single variable. Tuple is one of 4 built-in data types in Python used to store collections of data, the other 3 are List, Set, and Dictionary, all with different qualities and usage. A tuple is a collection which is ordered and unchangeable."
      ],
      "metadata": {
        "id": "Cfv0wZSK9B42"
      }
    },
    {
      "cell_type": "code",
      "source": [
        "# Accessing tuple elements using indexing\n",
        "my_tuple = ('p','e','r','m','i','t')\n",
        "\n",
        "print(my_tuple[0])   # 'p' \n",
        "print(my_tuple[5])   # 't'\n",
        "\n",
        "# Inde4xError: list index out of range\n",
        "# print(my_tuple[6])\n",
        "\n",
        "# Index must be an integer\n",
        "# TypeError: list indices must be integers, not float\n",
        "# my_tuple[2.0]\n",
        "\n",
        "# nested tuple\n",
        "n_tuple = (\"mouse\", [8, 4, 6], (1, 2, 3))\n",
        "\n",
        "# nested index\n",
        "print(n_tuple[0][3])       # 's'\n",
        "print(n_tuple[1][1])       # 4"
      ],
      "metadata": {
        "colab": {
          "base_uri": "https://localhost:8080/"
        },
        "id": "wvGqsW6ewCal",
        "outputId": "ebecd2a7-1009-47b0-f05b-8f2c59830dd3"
      },
      "execution_count": null,
      "outputs": [
        {
          "output_type": "stream",
          "name": "stdout",
          "text": [
            "p\n",
            "t\n",
            "s\n",
            "4\n"
          ]
        }
      ]
    },
    {
      "cell_type": "code",
      "source": [
        "# Negative indexing for accessing tuple elements\n",
        "my_tuple = ('p', 'e', 'r', 'm', 'i', 't')\n",
        "\n",
        "# Output: 't'\n",
        "print(my_tuple[-1])\n",
        "\n",
        "# Output: 'p'\n",
        "print(my_tuple[-6])"
      ],
      "metadata": {
        "colab": {
          "base_uri": "https://localhost:8080/"
        },
        "id": "mYjfH07pxo_j",
        "outputId": "be372722-b309-4f57-fea6-d03343120ce1"
      },
      "execution_count": null,
      "outputs": [
        {
          "output_type": "stream",
          "name": "stdout",
          "text": [
            "t\n",
            "p\n"
          ]
        }
      ]
    },
    {
      "cell_type": "code",
      "source": [
        "# Accessing tuple elements using slicing\n",
        "my_tuple = ('p','r','o','g','r','a','m','i','z')\n",
        "\n",
        "# elements 2nd to 4th\n",
        "# Output: ('r', 'o', 'g')\n",
        "print(my_tuple[1:4])\n",
        "\n",
        "# elements beginning to 2nd\n",
        "# Output: ('p', 'r')\n",
        "print(my_tuple[:-7])\n",
        "\n",
        "# elements 8th to end\n",
        "# Output: ('i', 'z')\n",
        "print(my_tuple[7:])\n",
        "\n",
        "# elements beginning to end\n",
        "# Output: ('p', 'r', 'o', 'g', 'r', 'a', 'm', 'i', 'z')\n",
        "print(my_tuple[:])"
      ],
      "metadata": {
        "colab": {
          "base_uri": "https://localhost:8080/"
        },
        "id": "gYcWQdyYycTg",
        "outputId": "2c994385-f9a2-418f-fa35-a1015f7dce43"
      },
      "execution_count": null,
      "outputs": [
        {
          "output_type": "stream",
          "name": "stdout",
          "text": [
            "('r', 'o', 'g')\n",
            "('p', 'r')\n",
            "('i', 'z')\n",
            "('p', 'r', 'o', 'g', 'r', 'a', 'm', 'i', 'z')\n"
          ]
        }
      ]
    },
    {
      "cell_type": "code",
      "source": [
        "# Membership test in tuple\n",
        "my_tuple = ('a', 'p', 'p', 'l', 'e',)\n",
        "\n",
        "# In operation\n",
        "print('a' in my_tuple)\n",
        "print('p' in my_tuple)\n",
        "\n",
        "# Not in operation\n",
        "print('a' not in my_tuple)\n"
      ],
      "metadata": {
        "colab": {
          "base_uri": "https://localhost:8080/"
        },
        "id": "ePrDrxncy1qM",
        "outputId": "62c32e63-dbb8-4fc6-a73a-c091835a7c82"
      },
      "execution_count": null,
      "outputs": [
        {
          "output_type": "stream",
          "name": "stdout",
          "text": [
            "True\n",
            "True\n",
            "False\n"
          ]
        }
      ]
    },
    {
      "cell_type": "markdown",
      "source": [
        "Range:The range() is an in-built function in Python. It returns a sequence of numbers starting from zero and increment by 1 by default and stops before the given number. Now that we know the definition of range, let's see the syntax: range(start, stop, step)"
      ],
      "metadata": {
        "id": "GQwvY9zC76Y9"
      }
    },
    {
      "cell_type": "code",
      "source": [
        "# empty range\n",
        "print(list(range(0)))\n",
        "\n",
        "# using range(stop)\n",
        "print(list(range(10)))\n",
        "\n",
        "# using range(start, stop)\n",
        "print(list(range(1, 10)))"
      ],
      "metadata": {
        "colab": {
          "base_uri": "https://localhost:8080/"
        },
        "id": "hs6juhAQ78QE",
        "outputId": "659e48ec-a112-4890-92a4-2adf9910bdc9"
      },
      "execution_count": null,
      "outputs": [
        {
          "output_type": "stream",
          "name": "stdout",
          "text": [
            "[]\n",
            "[0, 1, 2, 3, 4, 5, 6, 7, 8, 9]\n",
            "[1, 2, 3, 4, 5, 6, 7, 8, 9]\n"
          ]
        }
      ]
    },
    {
      "cell_type": "code",
      "source": [
        "# Numbers from 10 to 15\n",
        "# start = 10\n",
        "# stop = 50\n",
        "# step = 5\n",
        "for i in range(10, 50, 5):\n",
        "    print(i, end=' ')\n",
        "\n",
        "# Output 10 15 20 25 30 35 40 45"
      ],
      "metadata": {
        "colab": {
          "base_uri": "https://localhost:8080/"
        },
        "id": "eI7UIaKq8iQI",
        "outputId": "8b75a996-bdc3-4be8-842e-86987c6601d7"
      },
      "execution_count": null,
      "outputs": [
        {
          "output_type": "stream",
          "name": "stdout",
          "text": [
            "10 15 20 25 30 35 40 45 "
          ]
        }
      ]
    },
    {
      "cell_type": "code",
      "source": [
        "# reverse range using negative step\n",
        "# start = 5\n",
        "# stop = -1\n",
        "# step = -1\n",
        "for i in range(5, -1, -1):\n",
        "    print(i)"
      ],
      "metadata": {
        "colab": {
          "base_uri": "https://localhost:8080/"
        },
        "id": "rcF42_7Z8lAN",
        "outputId": "45785a0f-3f37-43aa-8586-f96b48b03614"
      },
      "execution_count": null,
      "outputs": [
        {
          "output_type": "stream",
          "name": "stdout",
          "text": [
            "5\n",
            "4\n",
            "3\n",
            "2\n",
            "1\n",
            "0\n"
          ]
        }
      ]
    },
    {
      "cell_type": "code",
      "source": [
        "# Decrement range() using step\n",
        "# start = 30, stop = 20\n",
        "# step = -2\n",
        "for i in range(30, 20, -2):\n",
        "    print(i, end=' ')"
      ],
      "metadata": {
        "colab": {
          "base_uri": "https://localhost:8080/"
        },
        "id": "vrsMJySa980q",
        "outputId": "d8b5ca15-7fa3-4e20-99c9-4458f0d3f4e2"
      },
      "execution_count": null,
      "outputs": [
        {
          "output_type": "stream",
          "name": "stdout",
          "text": [
            "30 28 26 24 22 "
          ]
        }
      ]
    },
    {
      "cell_type": "markdown",
      "source": [
        "**Set**:A set is an unordered collection of items. Every set element is unique (no duplicates) and must be immutable (cannot be changed).\n",
        "\n",
        "However, a set itself is mutable. We can add or remove items from it.\n",
        "\n",
        "Sets can also be used to perform mathematical set operations like union, intersection, symmetric difference, etc.\n",
        "\n"
      ],
      "metadata": {
        "id": "HDuc6D4Q-mRh"
      }
    },
    {
      "cell_type": "code",
      "source": [
        "# empty set\n",
        "print(set())\n",
        "\n",
        "# from string\n",
        "print(set('Python'))\n",
        "\n",
        "# from tuple\n",
        "print(set(('J', 'A', 'M', 'M', 'I')))\n",
        "\n",
        "# from list\n",
        "print(set(['a', 'e', 'i', 'o', 'u']))\n",
        "\n",
        "# from range\n",
        "print(set(range(5)))"
      ],
      "metadata": {
        "colab": {
          "base_uri": "https://localhost:8080/"
        },
        "id": "D_KTZ2Pi-pQ7",
        "outputId": "5727a5fe-bdc8-4528-dcc2-1f681632595b"
      },
      "execution_count": null,
      "outputs": [
        {
          "output_type": "stream",
          "name": "stdout",
          "text": [
            "set()\n",
            "{'n', 'P', 'o', 't', 'y', 'h'}\n",
            "{'A', 'J', 'M', 'I'}\n",
            "{'a', 'e', 'o', 'i', 'u'}\n",
            "{0, 1, 2, 3, 4}\n"
          ]
        }
      ]
    },
    {
      "cell_type": "code",
      "source": [
        "first_set = {1, 2, 3, 4, 5, 6}\n",
        "second_set = {4, 5, 6, 7, 8, 9}\n",
        "first_set.difference(second_set)\n",
        "{1, 2, 3}\n",
        "\n",
        "first_set - second_set     # using the `-` operator\n",
        "{1, 2, 3}\n",
        "\n",
        "second_set - first_set\n",
        "{8, 9, 7}"
      ],
      "metadata": {
        "colab": {
          "base_uri": "https://localhost:8080/"
        },
        "id": "iaLDwaPa_a9O",
        "outputId": "4cfa3882-2ef6-44e7-df4e-59ff540bf07a"
      },
      "execution_count": null,
      "outputs": [
        {
          "output_type": "execute_result",
          "data": {
            "text/plain": [
              "{7, 8, 9}"
            ]
          },
          "metadata": {},
          "execution_count": 7
        }
      ]
    },
    {
      "cell_type": "code",
      "source": [
        "Days = {\"Monday\", \"Tuesday\", \"Wednesday\", \"Thursday\", \"Friday\", \"Saturday\", \"Sunday\"}    \n",
        "print(Days)    \n",
        "print(type(Days))    \n",
        "print(\"looping through the set elements ... \")    \n",
        "for i in Days:    \n",
        "    print(i)    "
      ],
      "metadata": {
        "colab": {
          "base_uri": "https://localhost:8080/"
        },
        "id": "hKURnUvfBr8W",
        "outputId": "edf1cb6e-0b9d-4bf7-91fd-2f0d301cfb11"
      },
      "execution_count": null,
      "outputs": [
        {
          "output_type": "stream",
          "name": "stdout",
          "text": [
            "{'Sunday', 'Thursday', 'Saturday', 'Friday', 'Monday', 'Tuesday', 'Wednesday'}\n",
            "<class 'set'>\n",
            "looping through the set elements ... \n",
            "Sunday\n",
            "Thursday\n",
            "Saturday\n",
            "Friday\n",
            "Monday\n",
            "Tuesday\n",
            "Wednesday\n"
          ]
        }
      ]
    }
  ]
}